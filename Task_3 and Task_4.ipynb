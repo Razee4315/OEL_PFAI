{
  "nbformat": 4,
  "nbformat_minor": 0,
  "metadata": {
    "colab": {
      "provenance": []
    },
    "kernelspec": {
      "name": "ir",
      "display_name": "R"
    },
    "language_info": {
      "name": "R"
    }
  },
  "cells": [
    {
      "cell_type": "code",
      "source": [
        "install.packages(\"writexl\")"
      ],
      "metadata": {
        "colab": {
          "base_uri": "https://localhost:8080/"
        },
        "id": "58qy1iSkw5uV",
        "outputId": "a49bb1b2-a7ef-486e-aee7-40db792ef331"
      },
      "execution_count": 2,
      "outputs": [
        {
          "output_type": "stream",
          "name": "stderr",
          "text": [
            "Installing package into ‘/usr/local/lib/R/site-library’\n",
            "(as ‘lib’ is unspecified)\n",
            "\n"
          ]
        }
      ]
    },
    {
      "cell_type": "code",
      "source": [
        "library(writexl)"
      ],
      "metadata": {
        "id": "fnoJtC30w6ng"
      },
      "execution_count": 3,
      "outputs": []
    },
    {
      "cell_type": "code",
      "execution_count": 5,
      "metadata": {
        "colab": {
          "base_uri": "https://localhost:8080/",
          "height": 1000
        },
        "id": "K7usIOsSwDU3",
        "outputId": "c4627bbd-0ee4-4164-e5c7-b96426796ad7"
      },
      "outputs": [
        {
          "output_type": "stream",
          "name": "stderr",
          "text": [
            "Installing package into ‘/usr/local/lib/R/site-library’\n",
            "(as ‘lib’ is unspecified)\n",
            "\n",
            "Installing package into ‘/usr/local/lib/R/site-library’\n",
            "(as ‘lib’ is unspecified)\n",
            "\n",
            "Installing package into ‘/usr/local/lib/R/site-library’\n",
            "(as ‘lib’ is unspecified)\n",
            "\n"
          ]
        },
        {
          "output_type": "display_data",
          "data": {
            "text/html": [
              "<table class=\"dataframe\">\n",
              "<caption>A tibble: 6 × 8</caption>\n",
              "<thead>\n",
              "\t<tr><th scope=col>Invoice</th><th scope=col>StockCode</th><th scope=col>Description</th><th scope=col>Quantity</th><th scope=col>InvoiceDate</th><th scope=col>UnitPrice</th><th scope=col>CustomerID</th><th scope=col>Country</th></tr>\n",
              "\t<tr><th scope=col>&lt;chr&gt;</th><th scope=col>&lt;chr&gt;</th><th scope=col>&lt;chr&gt;</th><th scope=col>&lt;dbl&gt;</th><th scope=col>&lt;dttm&gt;</th><th scope=col>&lt;dbl&gt;</th><th scope=col>&lt;dbl&gt;</th><th scope=col>&lt;chr&gt;</th></tr>\n",
              "</thead>\n",
              "<tbody>\n",
              "\t<tr><td>489434</td><td>85048 </td><td>15CM CHRISTMAS GLASS BALL 20 LIGHTS</td><td>12</td><td>2009-12-01 07:45:00</td><td>6.95</td><td>13085</td><td>United Kingdom</td></tr>\n",
              "\t<tr><td>489434</td><td>79323P</td><td>PINK CHERRY LIGHTS                 </td><td>12</td><td>2009-12-01 07:45:00</td><td>6.75</td><td>13085</td><td>United Kingdom</td></tr>\n",
              "\t<tr><td>489434</td><td>79323W</td><td>WHITE CHERRY LIGHTS                </td><td>12</td><td>2009-12-01 07:45:00</td><td>6.75</td><td>13085</td><td>United Kingdom</td></tr>\n",
              "\t<tr><td>489434</td><td>22041 </td><td>RECORD FRAME 7\" SINGLE SIZE        </td><td>48</td><td>2009-12-01 07:45:00</td><td>2.10</td><td>13085</td><td>United Kingdom</td></tr>\n",
              "\t<tr><td>489434</td><td>21232 </td><td>STRAWBERRY CERAMIC TRINKET BOX     </td><td>24</td><td>2009-12-01 07:45:00</td><td>1.25</td><td>13085</td><td>United Kingdom</td></tr>\n",
              "\t<tr><td>489434</td><td>22064 </td><td>PINK DOUGHNUT TRINKET POT          </td><td>24</td><td>2009-12-01 07:45:00</td><td>1.65</td><td>13085</td><td>United Kingdom</td></tr>\n",
              "</tbody>\n",
              "</table>\n"
            ],
            "text/markdown": "\nA tibble: 6 × 8\n\n| Invoice &lt;chr&gt; | StockCode &lt;chr&gt; | Description &lt;chr&gt; | Quantity &lt;dbl&gt; | InvoiceDate &lt;dttm&gt; | UnitPrice &lt;dbl&gt; | CustomerID &lt;dbl&gt; | Country &lt;chr&gt; |\n|---|---|---|---|---|---|---|---|\n| 489434 | 85048  | 15CM CHRISTMAS GLASS BALL 20 LIGHTS | 12 | 2009-12-01 07:45:00 | 6.95 | 13085 | United Kingdom |\n| 489434 | 79323P | PINK CHERRY LIGHTS                  | 12 | 2009-12-01 07:45:00 | 6.75 | 13085 | United Kingdom |\n| 489434 | 79323W | WHITE CHERRY LIGHTS                 | 12 | 2009-12-01 07:45:00 | 6.75 | 13085 | United Kingdom |\n| 489434 | 22041  | RECORD FRAME 7\" SINGLE SIZE         | 48 | 2009-12-01 07:45:00 | 2.10 | 13085 | United Kingdom |\n| 489434 | 21232  | STRAWBERRY CERAMIC TRINKET BOX      | 24 | 2009-12-01 07:45:00 | 1.25 | 13085 | United Kingdom |\n| 489434 | 22064  | PINK DOUGHNUT TRINKET POT           | 24 | 2009-12-01 07:45:00 | 1.65 | 13085 | United Kingdom |\n\n",
            "text/latex": "A tibble: 6 × 8\n\\begin{tabular}{llllllll}\n Invoice & StockCode & Description & Quantity & InvoiceDate & UnitPrice & CustomerID & Country\\\\\n <chr> & <chr> & <chr> & <dbl> & <dttm> & <dbl> & <dbl> & <chr>\\\\\n\\hline\n\t 489434 & 85048  & 15CM CHRISTMAS GLASS BALL 20 LIGHTS & 12 & 2009-12-01 07:45:00 & 6.95 & 13085 & United Kingdom\\\\\n\t 489434 & 79323P & PINK CHERRY LIGHTS                  & 12 & 2009-12-01 07:45:00 & 6.75 & 13085 & United Kingdom\\\\\n\t 489434 & 79323W & WHITE CHERRY LIGHTS                 & 12 & 2009-12-01 07:45:00 & 6.75 & 13085 & United Kingdom\\\\\n\t 489434 & 22041  & RECORD FRAME 7\" SINGLE SIZE         & 48 & 2009-12-01 07:45:00 & 2.10 & 13085 & United Kingdom\\\\\n\t 489434 & 21232  & STRAWBERRY CERAMIC TRINKET BOX      & 24 & 2009-12-01 07:45:00 & 1.25 & 13085 & United Kingdom\\\\\n\t 489434 & 22064  & PINK DOUGHNUT TRINKET POT           & 24 & 2009-12-01 07:45:00 & 1.65 & 13085 & United Kingdom\\\\\n\\end{tabular}\n",
            "text/plain": [
              "  Invoice StockCode Description                         Quantity\n",
              "1 489434  85048     15CM CHRISTMAS GLASS BALL 20 LIGHTS 12      \n",
              "2 489434  79323P    PINK CHERRY LIGHTS                  12      \n",
              "3 489434  79323W    WHITE CHERRY LIGHTS                 12      \n",
              "4 489434  22041     RECORD FRAME 7\" SINGLE SIZE         48      \n",
              "5 489434  21232     STRAWBERRY CERAMIC TRINKET BOX      24      \n",
              "6 489434  22064     PINK DOUGHNUT TRINKET POT           24      \n",
              "  InvoiceDate         UnitPrice CustomerID Country       \n",
              "1 2009-12-01 07:45:00 6.95      13085      United Kingdom\n",
              "2 2009-12-01 07:45:00 6.75      13085      United Kingdom\n",
              "3 2009-12-01 07:45:00 6.75      13085      United Kingdom\n",
              "4 2009-12-01 07:45:00 2.10      13085      United Kingdom\n",
              "5 2009-12-01 07:45:00 1.25      13085      United Kingdom\n",
              "6 2009-12-01 07:45:00 1.65      13085      United Kingdom"
            ]
          },
          "metadata": {}
        },
        {
          "output_type": "stream",
          "name": "stdout",
          "text": [
            "tibble [525,461 × 8] (S3: tbl_df/tbl/data.frame)\n",
            " $ Invoice    : chr [1:525461] \"489434\" \"489434\" \"489434\" \"489434\" ...\n",
            " $ StockCode  : chr [1:525461] \"85048\" \"79323P\" \"79323W\" \"22041\" ...\n",
            " $ Description: chr [1:525461] \"15CM CHRISTMAS GLASS BALL 20 LIGHTS\" \"PINK CHERRY LIGHTS\" \"WHITE CHERRY LIGHTS\" \"RECORD FRAME 7\\\" SINGLE SIZE\" ...\n",
            " $ Quantity   : num [1:525461] 12 12 12 48 24 24 24 10 12 12 ...\n",
            " $ InvoiceDate: POSIXct[1:525461], format: \"2009-12-01 07:45:00\" \"2009-12-01 07:45:00\" ...\n",
            " $ UnitPrice  : num [1:525461] 6.95 6.75 6.75 2.1 1.25 1.65 1.25 5.95 2.55 3.75 ...\n",
            " $ CustomerID : num [1:525461] 13085 13085 13085 13085 13085 ...\n",
            " $ Country    : chr [1:525461] \"United Kingdom\" \"United Kingdom\" \"United Kingdom\" \"United Kingdom\" ...\n"
          ]
        },
        {
          "output_type": "display_data",
          "data": {
            "text/plain": [
              "   Invoice           StockCode         Description           Quantity       \n",
              " Length:525461      Length:525461      Length:525461      Min.   :-9600.00  \n",
              " Class :character   Class :character   Class :character   1st Qu.:    1.00  \n",
              " Mode  :character   Mode  :character   Mode  :character   Median :    3.00  \n",
              "                                                          Mean   :   10.34  \n",
              "                                                          3rd Qu.:   10.00  \n",
              "                                                          Max.   :19152.00  \n",
              "                                                                            \n",
              "  InvoiceDate                       UnitPrice           CustomerID    \n",
              " Min.   :2009-12-01 07:45:00.00   Min.   :-53594.36   Min.   :12346   \n",
              " 1st Qu.:2010-03-21 12:20:00.00   1st Qu.:     1.25   1st Qu.:13983   \n",
              " Median :2010-07-06 09:51:00.00   Median :     2.10   Median :15311   \n",
              " Mean   :2010-06-28 11:37:36.84   Mean   :     4.69   Mean   :15361   \n",
              " 3rd Qu.:2010-10-15 12:45:00.00   3rd Qu.:     4.21   3rd Qu.:16799   \n",
              " Max.   :2010-12-09 20:01:00.00   Max.   : 25111.09   Max.   :18287   \n",
              "                                                      NA's   :107927  \n",
              "   Country         \n",
              " Length:525461     \n",
              " Class :character  \n",
              " Mode  :character  \n",
              "                   \n",
              "                   \n",
              "                   \n",
              "                   "
            ]
          },
          "metadata": {}
        },
        {
          "output_type": "stream",
          "name": "stdout",
          "text": [
            "Original rows: 525461 \n",
            "Rows after removing NA CustomerID: 417534 \n",
            "Rows removed: 107927 \n",
            "\n",
            "Median UnitPrice: 1.95 \n",
            "Median Quantity: 4 \n",
            "\n",
            "NA count in UnitPrice after cleaning: 0 \n",
            "NA count in Quantity after cleaning: 0 \n",
            "Negative values in UnitPrice: 0 \n",
            "Negative values in Quantity: 0 \n",
            "\n",
            "Cleaning complete! Cleaned dataset saved in 'output' folder as:\n",
            "- processed_online_retail.csv\n",
            "- processed_online_retail.xlsx\n"
          ]
        }
      ],
      "source": [
        "# Task 3: Quick Data Cleaning - Online Retail Transactions (Excel Version)\n",
        "# Objective: Perform basic cleaning on the e-commerce dataset in Excel format\n",
        "\n",
        "# Step 1: Install and load necessary libraries\n",
        "install.packages(\"tidyverse\")\n",
        "install.packages(\"readxl\")\n",
        "install.packages(\"writexl\")\n",
        "\n",
        "library(tidyverse)    # For data manipulation and cleaning\n",
        "library(readxl)       # For reading Excel files\n",
        "library(writexl)      # For writing Excel files\n",
        "\n",
        "# Step 2: Load the Excel dataset\n",
        "# Note: read_excel() can read both .xls and .xlsx files\n",
        "raw_data <- read_excel(\"online_retail_II.xlsx\", sheet = 1) %>%\n",
        "  # Standardize column names by removing spaces and special characters\n",
        "  rename(\n",
        "    CustomerID = `Customer ID`,\n",
        "    UnitPrice = Price\n",
        "  )\n",
        "\n",
        "# Examine the initial structure of the data\n",
        "head(raw_data)  # View first few rows\n",
        "str(raw_data)   # Check data types and structure\n",
        "summary(raw_data) # Get summary statistics to identify missing values\n",
        "\n",
        "# Step 3: Remove rows with missing CustomerID\n",
        "# In e-commerce analysis, CustomerID is crucial for transaction analysis\n",
        "cleaned_data <- raw_data %>%\n",
        "  filter(!is.na(CustomerID))\n",
        "\n",
        "# Check how many rows were removed\n",
        "cat(\"Original rows:\", nrow(raw_data), \"\\n\")\n",
        "cat(\"Rows after removing NA CustomerID:\", nrow(cleaned_data), \"\\n\")\n",
        "cat(\"Rows removed:\", nrow(raw_data) - nrow(cleaned_data), \"\\n\")\n",
        "\n",
        "# Step 4: Handle missing values and outliers in UnitPrice and Quantity\n",
        "# First calculate medians (excluding NAs)\n",
        "unitprice_median <- median(cleaned_data$UnitPrice, na.rm = TRUE)\n",
        "quantity_median <- median(cleaned_data$Quantity, na.rm = TRUE)\n",
        "\n",
        "cat(\"\\nMedian UnitPrice:\", unitprice_median, \"\\n\")\n",
        "cat(\"Median Quantity:\", quantity_median, \"\\n\\n\")\n",
        "\n",
        "# Replace NAs and handle negative values\n",
        "cleaned_data <- cleaned_data %>%\n",
        "  mutate(\n",
        "    UnitPrice = ifelse(is.na(UnitPrice) | UnitPrice < 0, unitprice_median, UnitPrice),\n",
        "    Quantity = ifelse(is.na(Quantity) | Quantity < 0, quantity_median, Quantity)\n",
        "  )\n",
        "\n",
        "# Verify no more NAs or negative values in these columns\n",
        "cat(\"NA count in UnitPrice after cleaning:\", sum(is.na(cleaned_data$UnitPrice)), \"\\n\")\n",
        "cat(\"NA count in Quantity after cleaning:\", sum(is.na(cleaned_data$Quantity)), \"\\n\")\n",
        "cat(\"Negative values in UnitPrice:\", sum(cleaned_data$UnitPrice < 0), \"\\n\")\n",
        "cat(\"Negative values in Quantity:\", sum(cleaned_data$Quantity < 0), \"\\n\")\n",
        "\n",
        "# Step 5: Additional cleaning - remove possible canceled orders (negative quantities)\n",
        "# Note: This is commented out as it might be business decision\n",
        "# cleaned_data <- cleaned_data %>% filter(Quantity > 0)\n",
        "\n",
        "# Step 6: Save the cleaned dataset\n",
        "# Create output directory if it doesn't exist\n",
        "if(!dir.exists(\"output\")) dir.create(\"output\")\n",
        "\n",
        "# Save as both CSV and Excel for flexibility\n",
        "write_csv(cleaned_data, \"output/processed_online_retail.csv\")\n",
        "write_xlsx(cleaned_data, \"output/processed_online_retail.xlsx\")\n",
        "\n",
        "cat(\"\\nCleaning complete! Cleaned dataset saved in 'output' folder as:\\n\")\n",
        "cat(\"- processed_online_retail.csv\\n\")\n",
        "cat(\"- processed_online_retail.xlsx\\n\")"
      ]
    },
    {
      "cell_type": "code",
      "source": [
        "# Task 4: Basic Classification Model (Logistic Regression for Diabetes Prediction)\n",
        "# Objective: Train a simple Logistic Regression model for diabetes prediction\n",
        "\n",
        "# Step 1: Install and load required packages\n",
        "\n",
        "install.packages(\"caret\")\n",
        "library(tidyverse)\n",
        "library(caret)\n",
        "\n",
        "# Step 2: Load the dataset\n",
        "diabetes_data <- read_csv(\"diabetes.csv\")  # Make sure the file is in your working directory\n",
        "\n",
        "# Examine the data structure\n",
        "head(diabetes_data)\n",
        "str(diabetes_data)\n",
        "summary(diabetes_data)\n",
        "\n",
        "# Step 3: Data Preprocessing\n",
        "# Check for missing values (though this dataset is already clean)\n",
        "colSums(is.na(diabetes_data))\n",
        "\n",
        "# Convert Outcome to factor for classification\n",
        "diabetes_data$Outcome <- as.factor(diabetes_data$Outcome)\n",
        "\n",
        "# Step 4: Split data into training (80%) and testing (20%) sets\n",
        "set.seed(123)  # For reproducibility\n",
        "train_index <- createDataPartition(diabetes_data$Outcome, p = 0.8, list = FALSE)\n",
        "train_data <- diabetes_data[train_index, ]\n",
        "test_data <- diabetes_data[-train_index, ]\n",
        "\n",
        "# Step 5: Train a Logistic Regression model\n",
        "model <- glm(Outcome ~ ., data = train_data, family = \"binomial\")\n",
        "\n",
        "# View model summary\n",
        "summary(model)\n",
        "\n",
        "# Step 6: Make predictions on the test set\n",
        "predictions <- predict(model, newdata = test_data, type = \"response\")\n",
        "predicted_classes <- ifelse(predictions > 0.5, 1, 0)\n",
        "\n",
        "# Step 7: Evaluate model performance\n",
        "# Create confusion matrix\n",
        "confusion_matrix <- table(Actual = test_data$Outcome, Predicted = predicted_classes)\n",
        "print(\"Confusion Matrix:\")\n",
        "print(confusion_matrix)\n",
        "\n",
        "# Calculate accuracy\n",
        "accuracy <- sum(diag(confusion_matrix)) / sum(confusion_matrix)\n",
        "print(paste(\"Accuracy:\", round(accuracy, 3)))\n",
        "\n",
        "# Additional metrics\n",
        "precision <- confusion_matrix[2,2] / sum(confusion_matrix[,2])\n",
        "recall <- confusion_matrix[2,2] / sum(confusion_matrix[2,])\n",
        "f1_score <- 2 * (precision * recall) / (precision + recall)\n",
        "\n",
        "print(paste(\"Precision:\", round(precision, 3)))\n",
        "print(paste(\"Recall:\", round(recall, 3)))\n",
        "print(paste(\"F1 Score:\", round(f1_score, 3)))\n",
        "\n",
        "# Step 8: Feature Importance (Optional)\n",
        "importance <- varImp(model)\n",
        "print(\"Feature Importance:\")\n",
        "print(importance)"
      ],
      "metadata": {
        "colab": {
          "base_uri": "https://localhost:8080/",
          "height": 1000
        },
        "id": "0KXmLXFGybwG",
        "outputId": "007fe3fe-9c1f-4780-dda2-f0ec62104264"
      },
      "execution_count": 9,
      "outputs": [
        {
          "output_type": "stream",
          "name": "stderr",
          "text": [
            "Installing package into ‘/usr/local/lib/R/site-library’\n",
            "(as ‘lib’ is unspecified)\n",
            "\n",
            "Loading required package: lattice\n",
            "\n",
            "\n",
            "Attaching package: ‘caret’\n",
            "\n",
            "\n",
            "The following object is masked from ‘package:purrr’:\n",
            "\n",
            "    lift\n",
            "\n",
            "\n",
            "\u001b[1mRows: \u001b[22m\u001b[34m768\u001b[39m \u001b[1mColumns: \u001b[22m\u001b[34m9\u001b[39m\n",
            "\u001b[36m──\u001b[39m \u001b[1mColumn specification\u001b[22m \u001b[36m────────────────────────────────────────────────────────\u001b[39m\n",
            "\u001b[1mDelimiter:\u001b[22m \",\"\n",
            "\u001b[32mdbl\u001b[39m (9): Pregnancies, Glucose, BloodPressure, SkinThickness, Insulin, BMI, D...\n",
            "\n",
            "\u001b[36mℹ\u001b[39m Use `spec()` to retrieve the full column specification for this data.\n",
            "\u001b[36mℹ\u001b[39m Specify the column types or set `show_col_types = FALSE` to quiet this message.\n"
          ]
        },
        {
          "output_type": "display_data",
          "data": {
            "text/html": [
              "<table class=\"dataframe\">\n",
              "<caption>A tibble: 6 × 9</caption>\n",
              "<thead>\n",
              "\t<tr><th scope=col>Pregnancies</th><th scope=col>Glucose</th><th scope=col>BloodPressure</th><th scope=col>SkinThickness</th><th scope=col>Insulin</th><th scope=col>BMI</th><th scope=col>DiabetesPedigreeFunction</th><th scope=col>Age</th><th scope=col>Outcome</th></tr>\n",
              "\t<tr><th scope=col>&lt;dbl&gt;</th><th scope=col>&lt;dbl&gt;</th><th scope=col>&lt;dbl&gt;</th><th scope=col>&lt;dbl&gt;</th><th scope=col>&lt;dbl&gt;</th><th scope=col>&lt;dbl&gt;</th><th scope=col>&lt;dbl&gt;</th><th scope=col>&lt;dbl&gt;</th><th scope=col>&lt;dbl&gt;</th></tr>\n",
              "</thead>\n",
              "<tbody>\n",
              "\t<tr><td>6</td><td>148</td><td>72</td><td>35</td><td>  0</td><td>33.6</td><td>0.627</td><td>50</td><td>1</td></tr>\n",
              "\t<tr><td>1</td><td> 85</td><td>66</td><td>29</td><td>  0</td><td>26.6</td><td>0.351</td><td>31</td><td>0</td></tr>\n",
              "\t<tr><td>8</td><td>183</td><td>64</td><td> 0</td><td>  0</td><td>23.3</td><td>0.672</td><td>32</td><td>1</td></tr>\n",
              "\t<tr><td>1</td><td> 89</td><td>66</td><td>23</td><td> 94</td><td>28.1</td><td>0.167</td><td>21</td><td>0</td></tr>\n",
              "\t<tr><td>0</td><td>137</td><td>40</td><td>35</td><td>168</td><td>43.1</td><td>2.288</td><td>33</td><td>1</td></tr>\n",
              "\t<tr><td>5</td><td>116</td><td>74</td><td> 0</td><td>  0</td><td>25.6</td><td>0.201</td><td>30</td><td>0</td></tr>\n",
              "</tbody>\n",
              "</table>\n"
            ],
            "text/markdown": "\nA tibble: 6 × 9\n\n| Pregnancies &lt;dbl&gt; | Glucose &lt;dbl&gt; | BloodPressure &lt;dbl&gt; | SkinThickness &lt;dbl&gt; | Insulin &lt;dbl&gt; | BMI &lt;dbl&gt; | DiabetesPedigreeFunction &lt;dbl&gt; | Age &lt;dbl&gt; | Outcome &lt;dbl&gt; |\n|---|---|---|---|---|---|---|---|---|\n| 6 | 148 | 72 | 35 |   0 | 33.6 | 0.627 | 50 | 1 |\n| 1 |  85 | 66 | 29 |   0 | 26.6 | 0.351 | 31 | 0 |\n| 8 | 183 | 64 |  0 |   0 | 23.3 | 0.672 | 32 | 1 |\n| 1 |  89 | 66 | 23 |  94 | 28.1 | 0.167 | 21 | 0 |\n| 0 | 137 | 40 | 35 | 168 | 43.1 | 2.288 | 33 | 1 |\n| 5 | 116 | 74 |  0 |   0 | 25.6 | 0.201 | 30 | 0 |\n\n",
            "text/latex": "A tibble: 6 × 9\n\\begin{tabular}{lllllllll}\n Pregnancies & Glucose & BloodPressure & SkinThickness & Insulin & BMI & DiabetesPedigreeFunction & Age & Outcome\\\\\n <dbl> & <dbl> & <dbl> & <dbl> & <dbl> & <dbl> & <dbl> & <dbl> & <dbl>\\\\\n\\hline\n\t 6 & 148 & 72 & 35 &   0 & 33.6 & 0.627 & 50 & 1\\\\\n\t 1 &  85 & 66 & 29 &   0 & 26.6 & 0.351 & 31 & 0\\\\\n\t 8 & 183 & 64 &  0 &   0 & 23.3 & 0.672 & 32 & 1\\\\\n\t 1 &  89 & 66 & 23 &  94 & 28.1 & 0.167 & 21 & 0\\\\\n\t 0 & 137 & 40 & 35 & 168 & 43.1 & 2.288 & 33 & 1\\\\\n\t 5 & 116 & 74 &  0 &   0 & 25.6 & 0.201 & 30 & 0\\\\\n\\end{tabular}\n",
            "text/plain": [
              "  Pregnancies Glucose BloodPressure SkinThickness Insulin BMI \n",
              "1 6           148     72            35              0     33.6\n",
              "2 1            85     66            29              0     26.6\n",
              "3 8           183     64             0              0     23.3\n",
              "4 1            89     66            23             94     28.1\n",
              "5 0           137     40            35            168     43.1\n",
              "6 5           116     74             0              0     25.6\n",
              "  DiabetesPedigreeFunction Age Outcome\n",
              "1 0.627                    50  1      \n",
              "2 0.351                    31  0      \n",
              "3 0.672                    32  1      \n",
              "4 0.167                    21  0      \n",
              "5 2.288                    33  1      \n",
              "6 0.201                    30  0      "
            ]
          },
          "metadata": {}
        },
        {
          "output_type": "stream",
          "name": "stdout",
          "text": [
            "spc_tbl_ [768 × 9] (S3: spec_tbl_df/tbl_df/tbl/data.frame)\n",
            " $ Pregnancies             : num [1:768] 6 1 8 1 0 5 3 10 2 8 ...\n",
            " $ Glucose                 : num [1:768] 148 85 183 89 137 116 78 115 197 125 ...\n",
            " $ BloodPressure           : num [1:768] 72 66 64 66 40 74 50 0 70 96 ...\n",
            " $ SkinThickness           : num [1:768] 35 29 0 23 35 0 32 0 45 0 ...\n",
            " $ Insulin                 : num [1:768] 0 0 0 94 168 0 88 0 543 0 ...\n",
            " $ BMI                     : num [1:768] 33.6 26.6 23.3 28.1 43.1 25.6 31 35.3 30.5 0 ...\n",
            " $ DiabetesPedigreeFunction: num [1:768] 0.627 0.351 0.672 0.167 2.288 ...\n",
            " $ Age                     : num [1:768] 50 31 32 21 33 30 26 29 53 54 ...\n",
            " $ Outcome                 : num [1:768] 1 0 1 0 1 0 1 0 1 1 ...\n",
            " - attr(*, \"spec\")=\n",
            "  .. cols(\n",
            "  ..   Pregnancies = \u001b[32mcol_double()\u001b[39m,\n",
            "  ..   Glucose = \u001b[32mcol_double()\u001b[39m,\n",
            "  ..   BloodPressure = \u001b[32mcol_double()\u001b[39m,\n",
            "  ..   SkinThickness = \u001b[32mcol_double()\u001b[39m,\n",
            "  ..   Insulin = \u001b[32mcol_double()\u001b[39m,\n",
            "  ..   BMI = \u001b[32mcol_double()\u001b[39m,\n",
            "  ..   DiabetesPedigreeFunction = \u001b[32mcol_double()\u001b[39m,\n",
            "  ..   Age = \u001b[32mcol_double()\u001b[39m,\n",
            "  ..   Outcome = \u001b[32mcol_double()\u001b[39m\n",
            "  .. )\n",
            " - attr(*, \"problems\")=<externalptr> \n"
          ]
        },
        {
          "output_type": "display_data",
          "data": {
            "text/plain": [
              "  Pregnancies        Glucose      BloodPressure    SkinThickness  \n",
              " Min.   : 0.000   Min.   :  0.0   Min.   :  0.00   Min.   : 0.00  \n",
              " 1st Qu.: 1.000   1st Qu.: 99.0   1st Qu.: 62.00   1st Qu.: 0.00  \n",
              " Median : 3.000   Median :117.0   Median : 72.00   Median :23.00  \n",
              " Mean   : 3.845   Mean   :120.9   Mean   : 69.11   Mean   :20.54  \n",
              " 3rd Qu.: 6.000   3rd Qu.:140.2   3rd Qu.: 80.00   3rd Qu.:32.00  \n",
              " Max.   :17.000   Max.   :199.0   Max.   :122.00   Max.   :99.00  \n",
              "    Insulin           BMI        DiabetesPedigreeFunction      Age       \n",
              " Min.   :  0.0   Min.   : 0.00   Min.   :0.0780           Min.   :21.00  \n",
              " 1st Qu.:  0.0   1st Qu.:27.30   1st Qu.:0.2437           1st Qu.:24.00  \n",
              " Median : 30.5   Median :32.00   Median :0.3725           Median :29.00  \n",
              " Mean   : 79.8   Mean   :31.99   Mean   :0.4719           Mean   :33.24  \n",
              " 3rd Qu.:127.2   3rd Qu.:36.60   3rd Qu.:0.6262           3rd Qu.:41.00  \n",
              " Max.   :846.0   Max.   :67.10   Max.   :2.4200           Max.   :81.00  \n",
              "    Outcome     \n",
              " Min.   :0.000  \n",
              " 1st Qu.:0.000  \n",
              " Median :0.000  \n",
              " Mean   :0.349  \n",
              " 3rd Qu.:1.000  \n",
              " Max.   :1.000  "
            ]
          },
          "metadata": {}
        },
        {
          "output_type": "display_data",
          "data": {
            "text/html": [
              "<style>\n",
              ".dl-inline {width: auto; margin:0; padding: 0}\n",
              ".dl-inline>dt, .dl-inline>dd {float: none; width: auto; display: inline-block}\n",
              ".dl-inline>dt::after {content: \":\\0020\"; padding-right: .5ex}\n",
              ".dl-inline>dt:not(:first-of-type) {padding-left: .5ex}\n",
              "</style><dl class=dl-inline><dt>Pregnancies</dt><dd>0</dd><dt>Glucose</dt><dd>0</dd><dt>BloodPressure</dt><dd>0</dd><dt>SkinThickness</dt><dd>0</dd><dt>Insulin</dt><dd>0</dd><dt>BMI</dt><dd>0</dd><dt>DiabetesPedigreeFunction</dt><dd>0</dd><dt>Age</dt><dd>0</dd><dt>Outcome</dt><dd>0</dd></dl>\n"
            ],
            "text/markdown": "Pregnancies\n:   0Glucose\n:   0BloodPressure\n:   0SkinThickness\n:   0Insulin\n:   0BMI\n:   0DiabetesPedigreeFunction\n:   0Age\n:   0Outcome\n:   0\n\n",
            "text/latex": "\\begin{description*}\n\\item[Pregnancies] 0\n\\item[Glucose] 0\n\\item[BloodPressure] 0\n\\item[SkinThickness] 0\n\\item[Insulin] 0\n\\item[BMI] 0\n\\item[DiabetesPedigreeFunction] 0\n\\item[Age] 0\n\\item[Outcome] 0\n\\end{description*}\n",
            "text/plain": [
              "             Pregnancies                  Glucose            BloodPressure \n",
              "                       0                        0                        0 \n",
              "           SkinThickness                  Insulin                      BMI \n",
              "                       0                        0                        0 \n",
              "DiabetesPedigreeFunction                      Age                  Outcome \n",
              "                       0                        0                        0 "
            ]
          },
          "metadata": {}
        },
        {
          "output_type": "display_data",
          "data": {
            "text/plain": [
              "\n",
              "Call:\n",
              "glm(formula = Outcome ~ ., family = \"binomial\", data = train_data)\n",
              "\n",
              "Coefficients:\n",
              "                           Estimate Std. Error z value Pr(>|z|)    \n",
              "(Intercept)              -7.8116450  0.7694301 -10.153  < 2e-16 ***\n",
              "Pregnancies               0.0998300  0.0358381   2.786  0.00534 ** \n",
              "Glucose                   0.0342306  0.0040533   8.445  < 2e-16 ***\n",
              "BloodPressure            -0.0148671  0.0055567  -2.676  0.00746 ** \n",
              "SkinThickness            -0.0006103  0.0076247  -0.080  0.93621    \n",
              "Insulin                  -0.0007117  0.0009565  -0.744  0.45681    \n",
              "BMI                       0.0806695  0.0165458   4.876 1.09e-06 ***\n",
              "DiabetesPedigreeFunction  0.9355556  0.3388561   2.761  0.00576 ** \n",
              "Age                       0.0154356  0.0102718   1.503  0.13291    \n",
              "---\n",
              "Signif. codes:  0 ‘***’ 0.001 ‘**’ 0.01 ‘*’ 0.05 ‘.’ 0.1 ‘ ’ 1\n",
              "\n",
              "(Dispersion parameter for binomial family taken to be 1)\n",
              "\n",
              "    Null deviance: 796.05  on 614  degrees of freedom\n",
              "Residual deviance: 598.41  on 606  degrees of freedom\n",
              "AIC: 616.41\n",
              "\n",
              "Number of Fisher Scoring iterations: 5\n"
            ]
          },
          "metadata": {}
        },
        {
          "output_type": "stream",
          "name": "stdout",
          "text": [
            "[1] \"Confusion Matrix:\"\n",
            "      Predicted\n",
            "Actual  0  1\n",
            "     0 91  9\n",
            "     1 21 32\n",
            "[1] \"Accuracy: 0.804\"\n",
            "[1] \"Precision: 0.78\"\n",
            "[1] \"Recall: 0.604\"\n",
            "[1] \"F1 Score: 0.681\"\n",
            "[1] \"Feature Importance:\"\n",
            "                            Overall\n",
            "Pregnancies              2.78557968\n",
            "Glucose                  8.44503903\n",
            "BloodPressure            2.67551208\n",
            "SkinThickness            0.08003981\n",
            "Insulin                  0.74411562\n",
            "BMI                      4.87551582\n",
            "DiabetesPedigreeFunction 2.76092323\n",
            "Age                      1.50270973\n"
          ]
        }
      ]
    }
  ]
}